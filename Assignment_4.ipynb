{
 "cells": [
  {
   "cell_type": "code",
   "execution_count": null,
   "id": "6be68643",
   "metadata": {},
   "outputs": [],
   "source": [
    "1. What exactly is []?\n",
    "\n",
    "Ans : \n",
    "    \n",
    "The empty list value, which is a list value that contains no items."
   ]
  },
  {
   "cell_type": "code",
   "execution_count": null,
   "id": "2bc5fed1",
   "metadata": {},
   "outputs": [],
   "source": [
    "2. In a list of values stored in a variable called spam, how would you assign the value 'hello' as the third value? (Assume [2, 4, 6, 8, 10] are in spam.)\n",
    "\n",
    "Ans : \n",
    "    \n",
    "spam[2] = 'hello' "
   ]
  },
  {
   "cell_type": "code",
   "execution_count": null,
   "id": "8d488496",
   "metadata": {},
   "outputs": [],
   "source": [
    "3. What is the value of spam[int(int('3' * 2) / 11)]?\n",
    "\n",
    "Ans : \n",
    "    \n",
    "'3' * 2 is the string '33', which is passed to int() that divided by 11. So the result is  3. "
   ]
  },
  {
   "cell_type": "code",
   "execution_count": null,
   "id": "0e8da6d0",
   "metadata": {},
   "outputs": [],
   "source": [
    "4. What is the value of spam[-1]?\n",
    "\n",
    "Ans:\n",
    "\n",
    "Negative indexes count from the end which the answere is - d"
   ]
  },
  {
   "cell_type": "code",
   "execution_count": null,
   "id": "d6040acb",
   "metadata": {},
   "outputs": [],
   "source": [
    "5. What is the value of spam[:2]?\n",
    "\n",
    "Ans : \n",
    "    \n",
    "['a', 'b']"
   ]
  },
  {
   "cell_type": "code",
   "execution_count": null,
   "id": "8d920d75",
   "metadata": {},
   "outputs": [],
   "source": [
    "bacon has the list [3.14, 'cat,' 11, 'cat,' True]\n",
    "\n",
    "6. What is the value of bacon.index('cat')?\n",
    "\n",
    "Ans : \n",
    "\n",
    "The index location is 1\n"
   ]
  },
  {
   "cell_type": "code",
   "execution_count": null,
   "id": "1e8517c1",
   "metadata": {},
   "outputs": [],
   "source": [
    "bacon has the list [3.14, 'cat,' 11, 'cat,' True]\n",
    "7. How does bacon.append(99) change the look of the list value in bacon?\n",
    "\n",
    "Ans : \n",
    "    \n",
    "[3.14, 'cat', 11, 'cat', True, 99]\n"
   ]
  },
  {
   "cell_type": "code",
   "execution_count": null,
   "id": "e3bdb414",
   "metadata": {},
   "outputs": [],
   "source": [
    "8. How does bacon.remove('cat') change the look of the list in bacon?\n",
    "\n",
    "Ans : \n",
    "    \n",
    "[3.14, 11, 'cat', True]"
   ]
  },
  {
   "cell_type": "code",
   "execution_count": null,
   "id": "e98afc3e",
   "metadata": {},
   "outputs": [],
   "source": [
    "9. What are the list concatenation and list replication operators?\n",
    "\n",
    "Ans : \n",
    "    \n",
    "The operator for list concatenation is +, while the operator for replication is *. "
   ]
  },
  {
   "cell_type": "code",
   "execution_count": null,
   "id": "949f24bb",
   "metadata": {},
   "outputs": [],
   "source": [
    "10. What is difference between the list methods append() and insert()?\n",
    "\n",
    "Ans :\n",
    "    \n",
    "append() will add values only to the end of a list, insert() can add them anywhere in the list."
   ]
  },
  {
   "cell_type": "code",
   "execution_count": null,
   "id": "827290d6",
   "metadata": {},
   "outputs": [],
   "source": [
    "11. What are the two methods for removing items from a list?\n",
    "\n",
    "Ans: \n",
    "\n",
    "The del statement and the remove() list method can be used."
   ]
  },
  {
   "cell_type": "code",
   "execution_count": null,
   "id": "447633e9",
   "metadata": {},
   "outputs": [],
   "source": [
    "12. Describe how list values and string values are identical.\n",
    "\n",
    "Ans: \n",
    "    \n",
    "Both lists and strings can be passed to len(), have indexes and slices, be used in for loops, be concatenated or replicated, and be used with the in and not in operators as well."
   ]
  },
  {
   "cell_type": "code",
   "execution_count": null,
   "id": "8d3ecee8",
   "metadata": {},
   "outputs": [],
   "source": [
    "13. What's the difference between tuples and lists?\n",
    "\n",
    "Ans : \n",
    "    \n",
    "Lists are mutable; they can have values added, removed, or changed. Tuples are immutable; they cannot be changed at all. Also, tuples are written using parentheses as (), and lists use the square brackets []"
   ]
  },
  {
   "cell_type": "code",
   "execution_count": null,
   "id": "9f3b35a4",
   "metadata": {},
   "outputs": [],
   "source": [
    "14. How do you type a tuple value that only contains the integer 42?\n",
    "\n",
    "Ans : \n",
    "    \n",
    "(42,) "
   ]
  },
  {
   "cell_type": "code",
   "execution_count": null,
   "id": "55e74901",
   "metadata": {},
   "outputs": [],
   "source": [
    "15. How do you get a list value's tuple form? How do you get a tuple value's list form?\n",
    "\n",
    "Ans : \n",
    "    \n",
    "The tuple() and list() functions will be used like this."
   ]
  },
  {
   "cell_type": "code",
   "execution_count": null,
   "id": "9a006afc",
   "metadata": {},
   "outputs": [],
   "source": [
    "16. Variables that \"contain\" list values are not necessarily lists themselves. Instead, what do they contain?\n",
    "\n",
    "Ans: \n",
    "    \n",
    "They contain references to list values."
   ]
  },
  {
   "cell_type": "code",
   "execution_count": null,
   "id": "628d4267",
   "metadata": {},
   "outputs": [],
   "source": [
    "17. How do you distinguish between copy.copy() and copy.deepcopy()?\n",
    "\n",
    "Ans : \n",
    "    \n",
    "The copy.copy() function will do a shallow copy of a list, while the copy.deepcopy() function will do a deep copy of a list. That is, only copy.deepcopy() will duplicate any lists inside the list."
   ]
  }
 ],
 "metadata": {
  "kernelspec": {
   "display_name": "Python 3",
   "language": "python",
   "name": "python3"
  },
  "language_info": {
   "codemirror_mode": {
    "name": "ipython",
    "version": 3
   },
   "file_extension": ".py",
   "mimetype": "text/x-python",
   "name": "python",
   "nbconvert_exporter": "python",
   "pygments_lexer": "ipython3",
   "version": "3.8.8"
  }
 },
 "nbformat": 4,
 "nbformat_minor": 5
}
